{
 "cells": [
  {
   "cell_type": "markdown",
   "metadata": {},
   "source": [
    "# Bag of Words Meets Bags of Popcorn\n",
    "\n",
    "[Kaggle Chanllenge](https://www.kaggle.com/c/word2vec-nlp-tutorial)\n",
    "Use Google's Word2Vec for movie reviews\n",
    "\n",
    "Deadline: 2019/01/05"
   ]
  },
  {
   "cell_type": "code",
   "execution_count": 3,
   "metadata": {},
   "outputs": [],
   "source": [
    "from time import time\n",
    "import re\n",
    "\n",
    "import numpy as np\n",
    "import pandas as pd\n",
    "import matplotlib.pyplot as plt\n",
    "\n",
    "from bs4 import BeautifulSoup\n",
    "from nltk.corpus import stopwords\n",
    "from sklearn.feature_extraction.text import CountVectorizer\n",
    "\n",
    "from sklearn.feature_extraction.text import TfidfVectorizer\n",
    "from sklearn.feature_extraction.text import TfidfTransformer\n",
    "\n",
    "from sklearn.pipeline import Pipeline\n",
    "from sklearn.model_selection import train_test_split\n",
    "from sklearn.metrics import accuracy_score, classification_report, confusion_matrix\n",
    "\n",
    "from sklearn.linear_model import LogisticRegression"
   ]
  },
  {
   "cell_type": "markdown",
   "metadata": {},
   "source": [
    "## Import Cleaned Data"
   ]
  },
  {
   "cell_type": "code",
   "execution_count": 5,
   "metadata": {},
   "outputs": [],
   "source": [
    "train = pd.read_csv( \"Data/Word2Vec_clean_labeledTrainData.csv\", index_col=0 )\n",
    "\n",
    "unlabeled_train = pd.read_csv( \"Data/Word2Vec_clean_unlabeledTrainData.csv\", index_col=0 )\n",
    "\n",
    "test = pd.read_csv( \"Data/Word2Vec_clean_testData.csv\", index_col=0 )"
   ]
  },
  {
   "cell_type": "code",
   "execution_count": null,
   "metadata": {},
   "outputs": [],
   "source": []
  },
  {
   "cell_type": "code",
   "execution_count": 6,
   "metadata": {},
   "outputs": [
    {
     "data": {
      "text/html": [
       "<div>\n",
       "<style scoped>\n",
       "    .dataframe tbody tr th:only-of-type {\n",
       "        vertical-align: middle;\n",
       "    }\n",
       "\n",
       "    .dataframe tbody tr th {\n",
       "        vertical-align: top;\n",
       "    }\n",
       "\n",
       "    .dataframe thead th {\n",
       "        text-align: right;\n",
       "    }\n",
       "</style>\n",
       "<table border=\"1\" class=\"dataframe\">\n",
       "  <thead>\n",
       "    <tr style=\"text-align: right;\">\n",
       "      <th></th>\n",
       "      <th>review</th>\n",
       "      <th>id</th>\n",
       "      <th>score</th>\n",
       "      <th>sentiment</th>\n",
       "    </tr>\n",
       "  </thead>\n",
       "  <tbody>\n",
       "    <tr>\n",
       "      <th>0</th>\n",
       "      <td>with all this stuff going down at the moment w...</td>\n",
       "      <td>\"5814_8\"</td>\n",
       "      <td>8</td>\n",
       "      <td>1</td>\n",
       "    </tr>\n",
       "    <tr>\n",
       "      <th>1</th>\n",
       "      <td>the classic war of the worlds by timothy hines...</td>\n",
       "      <td>\"2381_9\"</td>\n",
       "      <td>9</td>\n",
       "      <td>1</td>\n",
       "    </tr>\n",
       "    <tr>\n",
       "      <th>2</th>\n",
       "      <td>the film starts with a manager nicholas bell g...</td>\n",
       "      <td>\"7759_3\"</td>\n",
       "      <td>3</td>\n",
       "      <td>0</td>\n",
       "    </tr>\n",
       "    <tr>\n",
       "      <th>3</th>\n",
       "      <td>it must be assumed that those who praised this...</td>\n",
       "      <td>\"3630_4\"</td>\n",
       "      <td>4</td>\n",
       "      <td>0</td>\n",
       "    </tr>\n",
       "    <tr>\n",
       "      <th>4</th>\n",
       "      <td>superbly trashy and wondrously unpretentious s...</td>\n",
       "      <td>\"9495_8\"</td>\n",
       "      <td>8</td>\n",
       "      <td>1</td>\n",
       "    </tr>\n",
       "  </tbody>\n",
       "</table>\n",
       "</div>"
      ],
      "text/plain": [
       "                                              review        id  score  \\\n",
       "0  with all this stuff going down at the moment w...  \"5814_8\"      8   \n",
       "1  the classic war of the worlds by timothy hines...  \"2381_9\"      9   \n",
       "2  the film starts with a manager nicholas bell g...  \"7759_3\"      3   \n",
       "3  it must be assumed that those who praised this...  \"3630_4\"      4   \n",
       "4  superbly trashy and wondrously unpretentious s...  \"9495_8\"      8   \n",
       "\n",
       "   sentiment  \n",
       "0          1  \n",
       "1          1  \n",
       "2          0  \n",
       "3          0  \n",
       "4          1  "
      ]
     },
     "execution_count": 6,
     "metadata": {},
     "output_type": "execute_result"
    }
   ],
   "source": [
    "train.head()"
   ]
  },
  {
   "cell_type": "code",
   "execution_count": null,
   "metadata": {},
   "outputs": [],
   "source": []
  },
  {
   "cell_type": "code",
   "execution_count": null,
   "metadata": {},
   "outputs": [],
   "source": []
  },
  {
   "cell_type": "code",
   "execution_count": 7,
   "metadata": {},
   "outputs": [],
   "source": [
    "def train_test_and_evaluate(pipeline, x_train, y_train, x_test, y_test):\n",
    "    if len(x_test[y_test == 0]) / (len(x_test)*1.) > 0.5:\n",
    "        null_accuracy = len(x_test[y_test == 0]) / (len(x_test)*1.)\n",
    "    else:\n",
    "        null_accuracy = 1. - (len(x_test[y_test == 0]) / (len(x_test)*1.))\n",
    "        \n",
    "    t0 = time()\n",
    "    sentiment_fit = pipeline.fit(x_train, y_train)\n",
    "    y_pred = sentiment_fit.predict(x_test)\n",
    "    train_test_time = time() - t0\n",
    "    \n",
    "    accuracy = accuracy_score(y_test, y_pred)\n",
    "    conmat = np.array(confusion_matrix(y_test, y_pred, labels=[0,1]))\n",
    "    confusion = pd.DataFrame(conmat, index=['negative', 'positive'],\n",
    "                             columns=['predicted_negative','predicted_positive'])\n",
    "    \n",
    "    print(\"null accuracy: {0:.2f}%\".format(null_accuracy*100))\n",
    "    print(\"accuracy score: {0:.2f}%\".format(accuracy*100))\n",
    "    if accuracy > null_accuracy:\n",
    "        print(\"model is {0:.2f}% more accurate than null accuracy\".format((accuracy-null_accuracy)*100))\n",
    "    elif accuracy == null_accuracy:\n",
    "        print(\"model has the same accuracy with the null accuracy\")\n",
    "    else:\n",
    "        print(\"model is {0:.2f}% less accurate than null accuracy\".format((null_accuracy-accuracy)*100))\n",
    "    print(\"train and test time: {0:.2f}s\".format(train_test_time))\n",
    "    print(\"-\"*80)\n",
    "    \n",
    "#     print(\"Confusion Matrix\\n\")\n",
    "#     print(confusion)\n",
    "    \n",
    "#     print(\"-\"*80)\n",
    "#     print(\"Classification Report\\n\")\n",
    "#     print(classification_report(y_test, y_pred, target_names=['negative','positive']))\n",
    "    return accuracy, train_test_time"
   ]
  },
  {
   "cell_type": "code",
   "execution_count": 8,
   "metadata": {},
   "outputs": [],
   "source": [
    "count_vectorizer = CountVectorizer()\n",
    "lr = LogisticRegression()\n",
    "n_features = np.arange(1000,5001,500) # from a to b with 間距 = c\n",
    "\n",
    "def nfeature_accuracy_checker(vectorizer=count_vectorizer, n_features=n_features, \n",
    "                              stop_words=None, ngram_range=(1, 1), classifier=lr):\n",
    "    result = []\n",
    "    print (classifier)\n",
    "    print (\"\\n\")\n",
    "    for n in n_features:\n",
    "        vectorizer.set_params(stop_words=stop_words, max_features=n, ngram_range=ngram_range)\n",
    "        checker_pipeline = Pipeline([\n",
    "            ('vectorizer', vectorizer),\n",
    "            ('classifier', classifier)\n",
    "        ])\n",
    "        print(\"Validation result for {} features\".format(n))\n",
    "        nfeature_accuracy,tt_time = train_test_and_evaluate(checker_pipeline, x_train, y_train, x_validation, y_validation)\n",
    "        result.append((n,nfeature_accuracy,tt_time))\n",
    "    return result"
   ]
  },
  {
   "cell_type": "code",
   "execution_count": null,
   "metadata": {},
   "outputs": [],
   "source": []
  },
  {
   "cell_type": "code",
   "execution_count": null,
   "metadata": {},
   "outputs": [],
   "source": []
  },
  {
   "cell_type": "markdown",
   "metadata": {},
   "source": [
    "### Bag of Words with Bigram and Trigram\n",
    "\n",
    "According to Wikipedia, \"**n-gram** is a continuous sequence of n items from a given sequence of text or speech\".\n",
    "\n",
    "In other words, n-grams are simply all combinations of adjacent words or letters of length n that you can find in your source text."
   ]
  },
  {
   "cell_type": "code",
   "execution_count": 141,
   "metadata": {},
   "outputs": [],
   "source": [
    "x = train.review\n",
    "y = train.sentiment"
   ]
  },
  {
   "cell_type": "code",
   "execution_count": 142,
   "metadata": {},
   "outputs": [],
   "source": [
    "x_train, x_rest, y_train, y_rest = train_test_split(x, y, test_size=.02, random_state=2000)\n",
    "x_validation, x_test, y_validation, y_test = train_test_split(x_rest, y_rest, test_size=.5, random_state=2000)"
   ]
  },
  {
   "cell_type": "code",
   "execution_count": 143,
   "metadata": {},
   "outputs": [
    {
     "name": "stdout",
     "output_type": "stream",
     "text": [
      "Train set: 24500 entries with 50.03% negative, 49.97% positive\n",
      "Validation set: 250 entries with 50.80% negative, 49.20% positive\n",
      "Test set has: 250 entries with 46.40% negative, 53.60% positive\n"
     ]
    }
   ],
   "source": [
    "print(\"Train set: {0} entries with {1:.2f}% negative, {2:.2f}% positive\"\n",
    "      .format(len(x_train), \n",
    "              (len(x_train[y_train == 0]) / (len(x_train)*1.))*100, \n",
    "              (len(x_train[y_train == 1]) / (len(x_train)*1.))*100))\n",
    "\n",
    "print(\"Validation set: {0} entries with {1:.2f}% negative, {2:.2f}% positive\"\n",
    "      .format(len(x_validation),\n",
    "              (len(x_validation[y_validation == 0]) / (len(x_validation)*1.))*100,\n",
    "              (len(x_validation[y_validation == 1]) / (len(x_validation)*1.))*100))\n",
    "\n",
    "print(\"Test set has: {0} entries with {1:.2f}% negative, {2:.2f}% positive\"\n",
    "      .format(len(x_test),\n",
    "              (len(x_test[y_test == 0]) / (len(x_test)*1.))*100,\n",
    "              (len(x_test[y_test == 1]) / (len(x_test)*1.))*100))"
   ]
  },
  {
   "cell_type": "code",
   "execution_count": 144,
   "metadata": {},
   "outputs": [
    {
     "name": "stdout",
     "output_type": "stream",
     "text": [
      "LogisticRegression(C=1.0, class_weight=None, dual=False, fit_intercept=True,\n",
      "          intercept_scaling=1, max_iter=100, multi_class='warn',\n",
      "          n_jobs=None, penalty='l2', random_state=None, solver='warn',\n",
      "          tol=0.0001, verbose=0, warm_start=False)\n",
      "\n",
      "\n",
      "Validation result for 1000 features\n"
     ]
    },
    {
     "name": "stderr",
     "output_type": "stream",
     "text": [
      "/Users/wulingying/.pyenv/versions/3.7.1/envs/nlp/lib/python3.7/site-packages/sklearn/linear_model/logistic.py:433: FutureWarning: Default solver will be changed to 'lbfgs' in 0.22. Specify a solver to silence this warning.\n",
      "  FutureWarning)\n"
     ]
    },
    {
     "name": "stdout",
     "output_type": "stream",
     "text": [
      "null accuracy: 50.80%\n",
      "accuracy score: 85.20%\n",
      "model is 34.40% more accurate than null accuracy\n",
      "train and test time: 3.99s\n",
      "--------------------------------------------------------------------------------\n",
      "Validation result for 1500 features\n",
      "null accuracy: 50.80%\n",
      "accuracy score: 83.60%\n",
      "model is 32.80% more accurate than null accuracy\n",
      "train and test time: 4.38s\n",
      "--------------------------------------------------------------------------------\n",
      "Validation result for 2000 features\n",
      "null accuracy: 50.80%\n",
      "accuracy score: 84.40%\n",
      "model is 33.60% more accurate than null accuracy\n",
      "train and test time: 4.54s\n",
      "--------------------------------------------------------------------------------\n",
      "Validation result for 2500 features\n",
      "null accuracy: 50.80%\n",
      "accuracy score: 83.20%\n",
      "model is 32.40% more accurate than null accuracy\n",
      "train and test time: 4.16s\n",
      "--------------------------------------------------------------------------------\n",
      "Validation result for 3000 features\n",
      "null accuracy: 50.80%\n",
      "accuracy score: 86.80%\n",
      "model is 36.00% more accurate than null accuracy\n",
      "train and test time: 4.37s\n",
      "--------------------------------------------------------------------------------\n",
      "Validation result for 3500 features\n",
      "null accuracy: 50.80%\n",
      "accuracy score: 88.00%\n",
      "model is 37.20% more accurate than null accuracy\n",
      "train and test time: 4.44s\n",
      "--------------------------------------------------------------------------------\n",
      "Validation result for 4000 features\n",
      "null accuracy: 50.80%\n",
      "accuracy score: 86.80%\n",
      "model is 36.00% more accurate than null accuracy\n",
      "train and test time: 4.67s\n",
      "--------------------------------------------------------------------------------\n",
      "Validation result for 4500 features\n",
      "null accuracy: 50.80%\n",
      "accuracy score: 86.00%\n",
      "model is 35.20% more accurate than null accuracy\n",
      "train and test time: 5.01s\n",
      "--------------------------------------------------------------------------------\n",
      "Validation result for 5000 features\n",
      "null accuracy: 50.80%\n",
      "accuracy score: 84.80%\n",
      "model is 34.00% more accurate than null accuracy\n",
      "train and test time: 4.97s\n",
      "--------------------------------------------------------------------------------\n"
     ]
    }
   ],
   "source": [
    "feature_result_ug = nfeature_accuracy_checker()"
   ]
  },
  {
   "cell_type": "code",
   "execution_count": 145,
   "metadata": {},
   "outputs": [
    {
     "name": "stdout",
     "output_type": "stream",
     "text": [
      "LogisticRegression(C=1.0, class_weight=None, dual=False, fit_intercept=True,\n",
      "          intercept_scaling=1, max_iter=100, multi_class='warn',\n",
      "          n_jobs=None, penalty='l2', random_state=None, solver='warn',\n",
      "          tol=0.0001, verbose=0, warm_start=False)\n",
      "\n",
      "\n",
      "Validation result for 1000 features\n",
      "null accuracy: 50.80%\n",
      "accuracy score: 85.60%\n",
      "model is 34.80% more accurate than null accuracy\n",
      "train and test time: 17.18s\n",
      "--------------------------------------------------------------------------------\n",
      "Validation result for 1500 features\n",
      "null accuracy: 50.80%\n",
      "accuracy score: 85.20%\n",
      "model is 34.40% more accurate than null accuracy\n",
      "train and test time: 19.19s\n",
      "--------------------------------------------------------------------------------\n",
      "Validation result for 2000 features\n",
      "null accuracy: 50.80%\n",
      "accuracy score: 84.40%\n",
      "model is 33.60% more accurate than null accuracy\n",
      "train and test time: 18.11s\n",
      "--------------------------------------------------------------------------------\n",
      "Validation result for 2500 features\n",
      "null accuracy: 50.80%\n",
      "accuracy score: 85.20%\n",
      "model is 34.40% more accurate than null accuracy\n",
      "train and test time: 18.87s\n",
      "--------------------------------------------------------------------------------\n",
      "Validation result for 3000 features\n",
      "null accuracy: 50.80%\n",
      "accuracy score: 85.20%\n",
      "model is 34.40% more accurate than null accuracy\n",
      "train and test time: 19.18s\n",
      "--------------------------------------------------------------------------------\n",
      "Validation result for 3500 features\n",
      "null accuracy: 50.80%\n",
      "accuracy score: 87.60%\n",
      "model is 36.80% more accurate than null accuracy\n",
      "train and test time: 18.82s\n",
      "--------------------------------------------------------------------------------\n",
      "Validation result for 4000 features\n",
      "null accuracy: 50.80%\n",
      "accuracy score: 86.80%\n",
      "model is 36.00% more accurate than null accuracy\n",
      "train and test time: 18.37s\n",
      "--------------------------------------------------------------------------------\n",
      "Validation result for 4500 features\n",
      "null accuracy: 50.80%\n",
      "accuracy score: 86.40%\n",
      "model is 35.60% more accurate than null accuracy\n",
      "train and test time: 17.20s\n",
      "--------------------------------------------------------------------------------\n",
      "Validation result for 5000 features\n",
      "null accuracy: 50.80%\n",
      "accuracy score: 85.20%\n",
      "model is 34.40% more accurate than null accuracy\n",
      "train and test time: 18.48s\n",
      "--------------------------------------------------------------------------------\n"
     ]
    }
   ],
   "source": [
    "feature_result_bg = nfeature_accuracy_checker(ngram_range=(1, 2))"
   ]
  },
  {
   "cell_type": "code",
   "execution_count": 146,
   "metadata": {},
   "outputs": [
    {
     "name": "stdout",
     "output_type": "stream",
     "text": [
      "LogisticRegression(C=1.0, class_weight=None, dual=False, fit_intercept=True,\n",
      "          intercept_scaling=1, max_iter=100, multi_class='warn',\n",
      "          n_jobs=None, penalty='l2', random_state=None, solver='warn',\n",
      "          tol=0.0001, verbose=0, warm_start=False)\n",
      "\n",
      "\n",
      "Validation result for 1000 features\n",
      "null accuracy: 50.80%\n",
      "accuracy score: 85.60%\n",
      "model is 34.80% more accurate than null accuracy\n",
      "train and test time: 39.27s\n",
      "--------------------------------------------------------------------------------\n",
      "Validation result for 1500 features\n",
      "null accuracy: 50.80%\n",
      "accuracy score: 85.20%\n",
      "model is 34.40% more accurate than null accuracy\n",
      "train and test time: 37.75s\n",
      "--------------------------------------------------------------------------------\n",
      "Validation result for 2000 features\n",
      "null accuracy: 50.80%\n",
      "accuracy score: 84.00%\n",
      "model is 33.20% more accurate than null accuracy\n",
      "train and test time: 38.38s\n",
      "--------------------------------------------------------------------------------\n",
      "Validation result for 2500 features\n",
      "null accuracy: 50.80%\n",
      "accuracy score: 85.20%\n",
      "model is 34.40% more accurate than null accuracy\n",
      "train and test time: 38.54s\n",
      "--------------------------------------------------------------------------------\n",
      "Validation result for 3000 features\n",
      "null accuracy: 50.80%\n",
      "accuracy score: 86.40%\n",
      "model is 35.60% more accurate than null accuracy\n",
      "train and test time: 37.62s\n",
      "--------------------------------------------------------------------------------\n",
      "Validation result for 3500 features\n",
      "null accuracy: 50.80%\n",
      "accuracy score: 87.60%\n",
      "model is 36.80% more accurate than null accuracy\n",
      "train and test time: 37.79s\n",
      "--------------------------------------------------------------------------------\n",
      "Validation result for 4000 features\n",
      "null accuracy: 50.80%\n",
      "accuracy score: 87.20%\n",
      "model is 36.40% more accurate than null accuracy\n",
      "train and test time: 37.13s\n",
      "--------------------------------------------------------------------------------\n",
      "Validation result for 4500 features\n",
      "null accuracy: 50.80%\n",
      "accuracy score: 86.00%\n",
      "model is 35.20% more accurate than null accuracy\n",
      "train and test time: 39.95s\n",
      "--------------------------------------------------------------------------------\n",
      "Validation result for 5000 features\n",
      "null accuracy: 50.80%\n",
      "accuracy score: 84.80%\n",
      "model is 34.00% more accurate than null accuracy\n",
      "train and test time: 40.92s\n",
      "--------------------------------------------------------------------------------\n"
     ]
    }
   ],
   "source": [
    "feature_result_tg = nfeature_accuracy_checker(ngram_range=(1, 3))"
   ]
  },
  {
   "cell_type": "code",
   "execution_count": null,
   "metadata": {},
   "outputs": [],
   "source": []
  },
  {
   "cell_type": "code",
   "execution_count": 147,
   "metadata": {},
   "outputs": [
    {
     "data": {
      "text/plain": [
       "<matplotlib.legend.Legend at 0x13771d358>"
      ]
     },
     "execution_count": 147,
     "metadata": {},
     "output_type": "execute_result"
    },
    {
     "data": {
      "image/png": "[encoded data removed]",
      "text/plain": [
       "<Figure size 576x432 with 1 Axes>"
      ]
     },
     "metadata": {
      "needs_background": "light"
     },
     "output_type": "display_data"
    }
   ],
   "source": [
    "nfeatures_plot_tg = pd.DataFrame(feature_result_tg,columns=['nfeatures','validation_accuracy','train_test_time'])\n",
    "nfeatures_plot_bg = pd.DataFrame(feature_result_bg,columns=['nfeatures','validation_accuracy','train_test_time'])\n",
    "nfeatures_plot_ug = pd.DataFrame(feature_result_ug,columns=['nfeatures','validation_accuracy','train_test_time'])\n",
    "\n",
    "plt.figure(figsize=(8,6))\n",
    "plt.plot(nfeatures_plot_tg.nfeatures, nfeatures_plot_tg.validation_accuracy,label='trigram')\n",
    "plt.plot(nfeatures_plot_bg.nfeatures, nfeatures_plot_bg.validation_accuracy,label='bigram')\n",
    "plt.plot(nfeatures_plot_ug.nfeatures, nfeatures_plot_ug.validation_accuracy, label='unigram')\n",
    "plt.title(\"N-gram(1~3) test result : Accuracy\")\n",
    "plt.xlabel(\"Number of features\")\n",
    "plt.ylabel(\"Validation set accuracy\")\n",
    "plt.legend()"
   ]
  },
  {
   "cell_type": "code",
   "execution_count": null,
   "metadata": {},
   "outputs": [],
   "source": []
  },
  {
   "cell_type": "code",
   "execution_count": null,
   "metadata": {},
   "outputs": [],
   "source": []
  },
  {
   "cell_type": "code",
   "execution_count": null,
   "metadata": {},
   "outputs": [],
   "source": []
  },
  {
   "cell_type": "code",
   "execution_count": null,
   "metadata": {},
   "outputs": [],
   "source": []
  },
  {
   "cell_type": "markdown",
   "metadata": {},
   "source": [
    "## TF-IDF: Term Frequency–Inverse Document Frequency\n",
    "  \n",
    "詞彙的重要程度：在文件中出現頻率高，而在整個文件集合的其他文件中出現頻率少\n",
    "\n",
    "### ・fit( )\n",
    "渡されたデータの最大値、最小値、平均、標準偏差、傾き...などの統計を取得して、内部メモリに保存する。\n",
    "\n",
    "### ・transform( )\n",
    "fit( )で取得した統計情報を使って、渡されたデータを実際に書き換える。"
   ]
  },
  {
   "cell_type": "markdown",
   "metadata": {},
   "source": [
    "### 方法一：CountVectorizer + TfidfTransformer"
   ]
  },
  {
   "cell_type": "code",
   "execution_count": 6,
   "metadata": {},
   "outputs": [],
   "source": [
    "vectorizer = CountVectorizer()\n",
    "transformer = TfidfTransformer()\n",
    "\n",
    "tfidf = transformer.fit_transform(vectorizer.fit_transform(train['text']))"
   ]
  },
  {
   "cell_type": "code",
   "execution_count": null,
   "metadata": {},
   "outputs": [],
   "source": [
    "tfidf = tfidf.toarray()\n",
    "\n",
    "# tfidf.shape = (25000, 74047)"
   ]
  },
  {
   "cell_type": "code",
   "execution_count": null,
   "metadata": {},
   "outputs": [],
   "source": [
    "test_data_features = transformer.fit_transform(vectorizer.fit_transform(clean_train_reviews))\n",
    "test_data_features = test_data_features.toarray()"
   ]
  },
  {
   "cell_type": "code",
   "execution_count": null,
   "metadata": {},
   "outputs": [],
   "source": []
  },
  {
   "cell_type": "markdown",
   "metadata": {},
   "source": [
    "### 方法二：直接用 TfidfVectorizer"
   ]
  },
  {
   "cell_type": "code",
   "execution_count": null,
   "metadata": {},
   "outputs": [],
   "source": [
    "vectorizer_tfidf = TfidfVectorizer()\n",
    "tfidf2 = vectorizer_tfidf.fit_transform(clean_train_reviews).toarray()"
   ]
  },
  {
   "cell_type": "code",
   "execution_count": null,
   "metadata": {},
   "outputs": [],
   "source": [
    "tfidf2"
   ]
  },
  {
   "cell_type": "code",
   "execution_count": null,
   "metadata": {},
   "outputs": [],
   "source": []
  },
  {
   "cell_type": "markdown",
   "metadata": {},
   "source": [
    "## Random Forest (Supervised Learning)\n",
    "\n",
    "More trees map perform better, but certainly take longer to run."
   ]
  },
  {
   "cell_type": "code",
   "execution_count": null,
   "metadata": {},
   "outputs": [],
   "source": [
    "from sklearn.ensemble import RandomForestClassifier\n",
    "\n",
    "forest = RandomForestClassifier(n_estimators = 100)\n",
    "forest = forest.fit(tfidf, train['sentiment'])"
   ]
  },
  {
   "cell_type": "code",
   "execution_count": null,
   "metadata": {},
   "outputs": [],
   "source": [
    "classifier = forest\n",
    "result = forest.predict(test_data_features)"
   ]
  },
  {
   "cell_type": "code",
   "execution_count": null,
   "metadata": {},
   "outputs": [],
   "source": [
    "# output = pd.DataFrame(data = {\"id\": test['id'], \"sentiment\": result})\n",
    "# output.to_csv(\"Result/tfidf_and_count.csv\", index=False, quoting=3)"
   ]
  },
  {
   "cell_type": "code",
   "execution_count": null,
   "metadata": {},
   "outputs": [],
   "source": []
  },
  {
   "cell_type": "code",
   "execution_count": null,
   "metadata": {},
   "outputs": [],
   "source": [
    "forest2 = forest.fit(tfidf2, train['sentiment'])"
   ]
  },
  {
   "cell_type": "code",
   "execution_count": null,
   "metadata": {},
   "outputs": [],
   "source": [
    "classifier = forest2\n",
    "result = forest2.predict(test_data_features)"
   ]
  },
  {
   "cell_type": "code",
   "execution_count": null,
   "metadata": {},
   "outputs": [],
   "source": [
    "# output = pd.DataFrame(data = {\"id\": test['id'], \"sentiment\": result})\n",
    "# output.to_csv(\"Result/tfidf2.csv\", index=False, quoting=3)"
   ]
  },
  {
   "cell_type": "code",
   "execution_count": null,
   "metadata": {},
   "outputs": [],
   "source": []
  },
  {
   "cell_type": "code",
   "execution_count": null,
   "metadata": {},
   "outputs": [],
   "source": []
  },
  {
   "cell_type": "markdown",
   "metadata": {},
   "source": [
    "### 方法三：TFIDF + SVM"
   ]
  },
  {
   "cell_type": "code",
   "execution_count": 79,
   "metadata": {},
   "outputs": [],
   "source": [
    "vectorizer = CountVectorizer(analyzer = 'word', max_features = 3000)\n",
    "\n",
    "train_data_features = vectorizer.fit_transform(train.review.tolist())\n",
    "train_data_features = train_data_features.toarray()\n",
    "\n",
    "test_data_features = vectorizer.fit_transform(test.review.tolist())\n",
    "test_data_features = test_data_features.toarray()"
   ]
  },
  {
   "cell_type": "code",
   "execution_count": 80,
   "metadata": {},
   "outputs": [],
   "source": [
    "tfidf_transformer = TfidfTransformer().fit(train_data_features)\n",
    "\n",
    "train_tfidf = tfidf_transformer.transform(train_data_features)\n",
    "test_tfidf = tfidf_transformer.transform(test_data_features)"
   ]
  },
  {
   "cell_type": "code",
   "execution_count": 81,
   "metadata": {},
   "outputs": [],
   "source": [
    "from sklearn.svm import SVC, LinearSVC\n",
    "\n",
    "linear_svc = LinearSVC()\n",
    "linear_svc.fit(train_tfidf, train['sentiment'])\n",
    "\n",
    "result = linear_svc.predict(test_tfidf)"
   ]
  },
  {
   "cell_type": "code",
   "execution_count": null,
   "metadata": {},
   "outputs": [],
   "source": []
  },
  {
   "cell_type": "code",
   "execution_count": 82,
   "metadata": {},
   "outputs": [
    {
     "data": {
      "text/plain": [
       "92.28"
      ]
     },
     "execution_count": 82,
     "metadata": {},
     "output_type": "execute_result"
    }
   ],
   "source": [
    "acc_linear_svc = round(linear_svc.score(train_tfidf, train['sentiment']) * 100, 2)\n",
    "\n",
    "acc_linear_svc"
   ]
  },
  {
   "cell_type": "code",
   "execution_count": 83,
   "metadata": {},
   "outputs": [],
   "source": [
    "output = pd.DataFrame(data = {\"id\": test['id'], \"sentiment\": result})\n",
    "output.to_csv(\"TFIDF_SVM_feature3k.csv\", index=False, quoting=3)"
   ]
  },
  {
   "cell_type": "code",
   "execution_count": null,
   "metadata": {},
   "outputs": [],
   "source": []
  },
  {
   "cell_type": "code",
   "execution_count": null,
   "metadata": {},
   "outputs": [],
   "source": []
  },
  {
   "cell_type": "markdown",
   "metadata": {},
   "source": [
    "### Check Model Accuracy"
   ]
  },
  {
   "cell_type": "code",
   "execution_count": 132,
   "metadata": {},
   "outputs": [],
   "source": [
    "csv = pd.read_csv(\"Results/Bag_of_Words_model_tutorial.csv\")"
   ]
  },
  {
   "cell_type": "code",
   "execution_count": 133,
   "metadata": {},
   "outputs": [
    {
     "name": "stdout",
     "output_type": "stream",
     "text": [
      "0.84444\n"
     ]
    }
   ],
   "source": [
    "def classified_correct(model, i, inside=False):\n",
    "    if inside:\n",
    "        true_positive = model[\"sentiment\"][i] == 0 and int(model[\"id\"][i].split('\"')[1].split(\"_\")[1]) <= 5\n",
    "        true_negative = model[\"sentiment\"][i] == 1 and int(model[\"id\"][i].split('\"')[1].split(\"_\")[1]) > 5\n",
    "    \n",
    "    else:\n",
    "        true_positive = model[\"sentiment\"][i] == 0 and int(model[\"id\"][i].split(\"_\")[1]) <= 5\n",
    "        true_negative = model[\"sentiment\"][i] == 1 and int(model[\"id\"][i].split(\"_\")[1]) > 5\n",
    "    \n",
    "    return true_positive or true_negative\n",
    "\n",
    "target = csv\n",
    "correct = np.array([classified_correct(target, i) for i in range(target.shape[0])])\n",
    "print(correct.sum() / target.shape[0])"
   ]
  },
  {
   "cell_type": "code",
   "execution_count": null,
   "metadata": {},
   "outputs": [],
   "source": []
  },
  {
   "cell_type": "code",
   "execution_count": 116,
   "metadata": {},
   "outputs": [],
   "source": []
  },
  {
   "cell_type": "code",
   "execution_count": null,
   "metadata": {},
   "outputs": [],
   "source": []
  },
  {
   "cell_type": "code",
   "execution_count": null,
   "metadata": {},
   "outputs": [],
   "source": []
  }
 ],
 "metadata": {
  "kernelspec": {
   "display_name": "Python 3",
   "language": "python",
   "name": "python3"
  },
  "language_info": {
   "codemirror_mode": {
    "name": "ipython",
    "version": 3
   },
   "file_extension": ".py",
   "mimetype": "text/x-python",
   "name": "python",
   "nbconvert_exporter": "python",
   "pygments_lexer": "ipython3",
   "version": "3.6.7"
  }
 },
 "nbformat": 4,
 "nbformat_minor": 2
}
